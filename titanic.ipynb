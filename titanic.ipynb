{
 "cells": [
  {
   "cell_type": "markdown",
   "id": "cd870579",
   "metadata": {},
   "source": [
    "# TITANIC"
   ]
  },
  {
   "cell_type": "code",
   "execution_count": 1,
   "id": "2af16660",
   "metadata": {
    "ExecuteTime": {
     "end_time": "2021-08-14T21:43:20.286557Z",
     "start_time": "2021-08-14T21:43:19.957557Z"
    }
   },
   "outputs": [],
   "source": [
    "import numpy as np\n",
    "import pandas as pd"
   ]
  },
  {
   "cell_type": "code",
   "execution_count": 2,
   "id": "894aaf88",
   "metadata": {
    "ExecuteTime": {
     "end_time": "2021-08-14T21:43:26.896141Z",
     "start_time": "2021-08-14T21:43:24.878876Z"
    }
   },
   "outputs": [],
   "source": [
    "data = pd.read_csv('https://www.openml.org/data/get_csv/16826755/phpMYEkMl')\n"
   ]
  },
  {
   "cell_type": "code",
   "execution_count": 3,
   "id": "2cdf0747",
   "metadata": {
    "ExecuteTime": {
     "end_time": "2021-08-14T21:43:31.824364Z",
     "start_time": "2021-08-14T21:43:31.818218Z"
    }
   },
   "outputs": [],
   "source": [
    "data.drop(labels = ['name','boat', 'ticket','body', 'home.dest'], axis=1, inplace=True)"
   ]
  },
  {
   "cell_type": "code",
   "execution_count": 4,
   "id": "0fd28d65",
   "metadata": {
    "ExecuteTime": {
     "end_time": "2021-08-14T21:43:38.430066Z",
     "start_time": "2021-08-14T21:43:38.423568Z"
    }
   },
   "outputs": [],
   "source": [
    "data = data.replace('?', np.nan)\n"
   ]
  },
  {
   "cell_type": "code",
   "execution_count": 6,
   "id": "32850ea9",
   "metadata": {
    "ExecuteTime": {
     "end_time": "2021-08-14T21:43:53.657151Z",
     "start_time": "2021-08-14T21:43:53.645228Z"
    }
   },
   "outputs": [],
   "source": [
    "#missing values\n",
    "data.dropna(subset=['embarked', 'fare'], inplace=True)\n",
    "\n",
    "data['age'] = data['age'].astype('float')\n",
    "data['age'] = data['age'].fillna(data['age'].mean())"
   ]
  },
  {
   "cell_type": "code",
   "execution_count": 7,
   "id": "f0fcc85c",
   "metadata": {
    "ExecuteTime": {
     "end_time": "2021-08-14T21:44:01.210058Z",
     "start_time": "2021-08-14T21:44:01.205268Z"
    }
   },
   "outputs": [],
   "source": [
    "def get_first_cabin(row):\n",
    "    try:\n",
    "        return row.split()[0]\n",
    "    except:\n",
    "        return 'N'"
   ]
  },
  {
   "cell_type": "code",
   "execution_count": 8,
   "id": "5244fb2e",
   "metadata": {
    "ExecuteTime": {
     "end_time": "2021-08-14T21:44:07.454425Z",
     "start_time": "2021-08-14T21:44:07.448541Z"
    }
   },
   "outputs": [],
   "source": [
    "data['cabin'] = data['cabin'].apply(get_first_cabin)\n"
   ]
  },
  {
   "cell_type": "code",
   "execution_count": 9,
   "id": "946a0c49",
   "metadata": {
    "ExecuteTime": {
     "end_time": "2021-08-14T21:44:15.182619Z",
     "start_time": "2021-08-14T21:44:15.166103Z"
    }
   },
   "outputs": [
    {
     "data": {
      "text/plain": [
       "pclass      0\n",
       "survived    0\n",
       "sex         0\n",
       "age         0\n",
       "sibsp       0\n",
       "parch       0\n",
       "fare        0\n",
       "cabin       0\n",
       "embarked    0\n",
       "dtype: int64"
      ]
     },
     "execution_count": 9,
     "metadata": {},
     "output_type": "execute_result"
    }
   ],
   "source": [
    "data.isnull().sum()\n"
   ]
  },
  {
   "cell_type": "code",
   "execution_count": 10,
   "id": "3eca68bb",
   "metadata": {
    "ExecuteTime": {
     "end_time": "2021-08-14T21:44:21.974123Z",
     "start_time": "2021-08-14T21:44:21.959016Z"
    }
   },
   "outputs": [],
   "source": [
    "data.to_csv('titanic.csv', index=False)"
   ]
  },
  {
   "cell_type": "code",
   "execution_count": null,
   "id": "4ae83e73",
   "metadata": {},
   "outputs": [],
   "source": []
  }
 ],
 "metadata": {
  "kernelspec": {
   "display_name": "train_in_data",
   "language": "python",
   "name": "train_in_data"
  },
  "language_info": {
   "codemirror_mode": {
    "name": "ipython",
    "version": 3
   },
   "file_extension": ".py",
   "mimetype": "text/x-python",
   "name": "python",
   "nbconvert_exporter": "python",
   "pygments_lexer": "ipython3",
   "version": "3.9.6"
  },
  "toc": {
   "base_numbering": 1,
   "nav_menu": {},
   "number_sections": true,
   "sideBar": true,
   "skip_h1_title": false,
   "title_cell": "Table of Contents",
   "title_sidebar": "Contents",
   "toc_cell": false,
   "toc_position": {},
   "toc_section_display": true,
   "toc_window_display": false
  },
  "varInspector": {
   "cols": {
    "lenName": 16,
    "lenType": 16,
    "lenVar": 40
   },
   "kernels_config": {
    "python": {
     "delete_cmd_postfix": "",
     "delete_cmd_prefix": "del ",
     "library": "var_list.py",
     "varRefreshCmd": "print(var_dic_list())"
    },
    "r": {
     "delete_cmd_postfix": ") ",
     "delete_cmd_prefix": "rm(",
     "library": "var_list.r",
     "varRefreshCmd": "cat(var_dic_list()) "
    }
   },
   "types_to_exclude": [
    "module",
    "function",
    "builtin_function_or_method",
    "instance",
    "_Feature"
   ],
   "window_display": false
  }
 },
 "nbformat": 4,
 "nbformat_minor": 5
}
