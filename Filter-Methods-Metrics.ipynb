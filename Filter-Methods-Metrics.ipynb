{
 "cells": [
  {
   "cell_type": "markdown",
   "id": "23924860",
   "metadata": {},
   "source": [
    "# Univariate roc-auc or MSE"
   ]
  },
  {
   "cell_type": "markdown",
   "id": "c7436718",
   "metadata": {},
   "source": [
    "This procedure works as follows:\n",
    "\n",
    "First, it builds one decision tree per feature, to predict the target\n",
    "\n",
    "Second, it makes predictions using the decision tree and the mentioned feature\n",
    "\n",
    "Third, it measures the performance of that prediction, be it the roc-auc, the mse, or any other metric\n",
    "\n",
    "Fourth, it ranks the features according to the machine learning metric (roc-auc or mse)\n",
    "It selects the highest ranking features"
   ]
  },
  {
   "cell_type": "markdown",
   "id": "2a41b715",
   "metadata": {},
   "source": [
    "# LIBS"
   ]
  },
  {
   "cell_type": "code",
   "execution_count": 9,
   "id": "4656eb3f",
   "metadata": {
    "ExecuteTime": {
     "end_time": "2021-08-26T18:13:15.637207Z",
     "start_time": "2021-08-26T18:13:15.626766Z"
    }
   },
   "outputs": [],
   "source": [
    "import pandas as pd\n",
    "import numpy as np\n",
    "\n",
    "import matplotlib.pyplot as plt\n",
    "%matplotlib inline\n",
    "\n",
    "from sklearn.model_selection import train_test_split\n",
    "\n",
    "from sklearn.tree import DecisionTreeClassifier, DecisionTreeRegressor\n",
    "from sklearn.metrics import roc_auc_score, mean_squared_error"
   ]
  },
  {
   "cell_type": "markdown",
   "id": "5419ef0e",
   "metadata": {},
   "source": [
    "# FILTER METHOD"
   ]
  },
  {
   "cell_type": "code",
   "execution_count": 3,
   "id": "aee3b076",
   "metadata": {
    "ExecuteTime": {
     "end_time": "2021-08-26T18:08:26.926684Z",
     "start_time": "2021-08-26T18:08:25.185239Z"
    }
   },
   "outputs": [
    {
     "data": {
      "text/html": [
       "<div>\n",
       "<style scoped>\n",
       "    .dataframe tbody tr th:only-of-type {\n",
       "        vertical-align: middle;\n",
       "    }\n",
       "\n",
       "    .dataframe tbody tr th {\n",
       "        vertical-align: top;\n",
       "    }\n",
       "\n",
       "    .dataframe thead th {\n",
       "        text-align: right;\n",
       "    }\n",
       "</style>\n",
       "<table border=\"1\" class=\"dataframe\">\n",
       "  <thead>\n",
       "    <tr style=\"text-align: right;\">\n",
       "      <th></th>\n",
       "      <th>var_1</th>\n",
       "      <th>var_2</th>\n",
       "      <th>var_3</th>\n",
       "      <th>var_4</th>\n",
       "      <th>var_5</th>\n",
       "      <th>var_6</th>\n",
       "      <th>var_7</th>\n",
       "      <th>var_8</th>\n",
       "      <th>var_9</th>\n",
       "      <th>var_10</th>\n",
       "      <th>...</th>\n",
       "      <th>var_100</th>\n",
       "      <th>var_101</th>\n",
       "      <th>var_102</th>\n",
       "      <th>var_103</th>\n",
       "      <th>var_104</th>\n",
       "      <th>var_105</th>\n",
       "      <th>var_106</th>\n",
       "      <th>var_107</th>\n",
       "      <th>var_108</th>\n",
       "      <th>var_109</th>\n",
       "    </tr>\n",
       "  </thead>\n",
       "  <tbody>\n",
       "    <tr>\n",
       "      <th>0</th>\n",
       "      <td>4.532710</td>\n",
       "      <td>3.280834</td>\n",
       "      <td>17.982476</td>\n",
       "      <td>4.404259</td>\n",
       "      <td>2.349910</td>\n",
       "      <td>0.603264</td>\n",
       "      <td>2.784655</td>\n",
       "      <td>0.323146</td>\n",
       "      <td>12.009691</td>\n",
       "      <td>0.139346</td>\n",
       "      <td>...</td>\n",
       "      <td>2.079066</td>\n",
       "      <td>6.748819</td>\n",
       "      <td>2.941445</td>\n",
       "      <td>18.360496</td>\n",
       "      <td>17.726613</td>\n",
       "      <td>7.774031</td>\n",
       "      <td>1.473441</td>\n",
       "      <td>1.973832</td>\n",
       "      <td>0.976806</td>\n",
       "      <td>2.541417</td>\n",
       "    </tr>\n",
       "    <tr>\n",
       "      <th>1</th>\n",
       "      <td>5.821374</td>\n",
       "      <td>12.098722</td>\n",
       "      <td>13.309151</td>\n",
       "      <td>4.125599</td>\n",
       "      <td>1.045386</td>\n",
       "      <td>1.832035</td>\n",
       "      <td>1.833494</td>\n",
       "      <td>0.709090</td>\n",
       "      <td>8.652883</td>\n",
       "      <td>0.102757</td>\n",
       "      <td>...</td>\n",
       "      <td>2.479789</td>\n",
       "      <td>7.795290</td>\n",
       "      <td>3.557890</td>\n",
       "      <td>17.383378</td>\n",
       "      <td>15.193423</td>\n",
       "      <td>8.263673</td>\n",
       "      <td>1.878108</td>\n",
       "      <td>0.567939</td>\n",
       "      <td>1.018818</td>\n",
       "      <td>1.416433</td>\n",
       "    </tr>\n",
       "    <tr>\n",
       "      <th>2</th>\n",
       "      <td>1.938776</td>\n",
       "      <td>7.952752</td>\n",
       "      <td>0.972671</td>\n",
       "      <td>3.459267</td>\n",
       "      <td>1.935782</td>\n",
       "      <td>0.621463</td>\n",
       "      <td>2.338139</td>\n",
       "      <td>0.344948</td>\n",
       "      <td>9.937850</td>\n",
       "      <td>11.691283</td>\n",
       "      <td>...</td>\n",
       "      <td>1.861487</td>\n",
       "      <td>6.130886</td>\n",
       "      <td>3.401064</td>\n",
       "      <td>15.850471</td>\n",
       "      <td>14.620599</td>\n",
       "      <td>6.849776</td>\n",
       "      <td>1.098210</td>\n",
       "      <td>1.959183</td>\n",
       "      <td>1.575493</td>\n",
       "      <td>1.857893</td>\n",
       "    </tr>\n",
       "    <tr>\n",
       "      <th>3</th>\n",
       "      <td>6.020690</td>\n",
       "      <td>9.900544</td>\n",
       "      <td>17.869637</td>\n",
       "      <td>4.366715</td>\n",
       "      <td>1.973693</td>\n",
       "      <td>2.026012</td>\n",
       "      <td>2.853025</td>\n",
       "      <td>0.674847</td>\n",
       "      <td>11.816859</td>\n",
       "      <td>0.011151</td>\n",
       "      <td>...</td>\n",
       "      <td>1.340944</td>\n",
       "      <td>7.240058</td>\n",
       "      <td>2.417235</td>\n",
       "      <td>15.194609</td>\n",
       "      <td>13.553772</td>\n",
       "      <td>7.229971</td>\n",
       "      <td>0.835158</td>\n",
       "      <td>2.234482</td>\n",
       "      <td>0.946170</td>\n",
       "      <td>2.700606</td>\n",
       "    </tr>\n",
       "    <tr>\n",
       "      <th>4</th>\n",
       "      <td>3.909506</td>\n",
       "      <td>10.576516</td>\n",
       "      <td>0.934191</td>\n",
       "      <td>3.419572</td>\n",
       "      <td>1.871438</td>\n",
       "      <td>3.340811</td>\n",
       "      <td>1.868282</td>\n",
       "      <td>0.439865</td>\n",
       "      <td>13.585620</td>\n",
       "      <td>1.153366</td>\n",
       "      <td>...</td>\n",
       "      <td>2.738095</td>\n",
       "      <td>6.565509</td>\n",
       "      <td>4.341414</td>\n",
       "      <td>15.893832</td>\n",
       "      <td>11.929787</td>\n",
       "      <td>6.954033</td>\n",
       "      <td>1.853364</td>\n",
       "      <td>0.511027</td>\n",
       "      <td>2.599562</td>\n",
       "      <td>0.811364</td>\n",
       "    </tr>\n",
       "  </tbody>\n",
       "</table>\n",
       "<p>5 rows × 109 columns</p>\n",
       "</div>"
      ],
      "text/plain": [
       "      var_1      var_2      var_3     var_4     var_5     var_6     var_7  \\\n",
       "0  4.532710   3.280834  17.982476  4.404259  2.349910  0.603264  2.784655   \n",
       "1  5.821374  12.098722  13.309151  4.125599  1.045386  1.832035  1.833494   \n",
       "2  1.938776   7.952752   0.972671  3.459267  1.935782  0.621463  2.338139   \n",
       "3  6.020690   9.900544  17.869637  4.366715  1.973693  2.026012  2.853025   \n",
       "4  3.909506  10.576516   0.934191  3.419572  1.871438  3.340811  1.868282   \n",
       "\n",
       "      var_8      var_9     var_10  ...   var_100   var_101   var_102  \\\n",
       "0  0.323146  12.009691   0.139346  ...  2.079066  6.748819  2.941445   \n",
       "1  0.709090   8.652883   0.102757  ...  2.479789  7.795290  3.557890   \n",
       "2  0.344948   9.937850  11.691283  ...  1.861487  6.130886  3.401064   \n",
       "3  0.674847  11.816859   0.011151  ...  1.340944  7.240058  2.417235   \n",
       "4  0.439865  13.585620   1.153366  ...  2.738095  6.565509  4.341414   \n",
       "\n",
       "     var_103    var_104   var_105   var_106   var_107   var_108   var_109  \n",
       "0  18.360496  17.726613  7.774031  1.473441  1.973832  0.976806  2.541417  \n",
       "1  17.383378  15.193423  8.263673  1.878108  0.567939  1.018818  1.416433  \n",
       "2  15.850471  14.620599  6.849776  1.098210  1.959183  1.575493  1.857893  \n",
       "3  15.194609  13.553772  7.229971  0.835158  2.234482  0.946170  2.700606  \n",
       "4  15.893832  11.929787  6.954033  1.853364  0.511027  2.599562  0.811364  \n",
       "\n",
       "[5 rows x 109 columns]"
      ]
     },
     "execution_count": 3,
     "metadata": {},
     "output_type": "execute_result"
    }
   ],
   "source": [
    "#dataset\n",
    "df = pd.read_csv('data2.csv')\n",
    "df.head()"
   ]
  },
  {
   "cell_type": "code",
   "execution_count": 5,
   "id": "c6261eb2",
   "metadata": {
    "ExecuteTime": {
     "end_time": "2021-08-26T18:09:44.745067Z",
     "start_time": "2021-08-26T18:09:44.654591Z"
    }
   },
   "outputs": [
    {
     "data": {
      "text/plain": [
       "((35000, 108), (15000, 108))"
      ]
     },
     "execution_count": 5,
     "metadata": {},
     "output_type": "execute_result"
    }
   ],
   "source": [
    "#train and test set\n",
    "X_train, X_test, y_train, y_test = train_test_split(\n",
    "    df.drop(labels=['target'], axis = 1),\n",
    "    df['target'],\n",
    "    test_size = 0.3,\n",
    "    random_state = 0)\n",
    "\n",
    "X_train.shape, X_test.shape"
   ]
  },
  {
   "cell_type": "markdown",
   "id": "404b2fb8",
   "metadata": {},
   "source": [
    "# ROC-AUC"
   ]
  },
  {
   "cell_type": "code",
   "execution_count": 7,
   "id": "8d3926c6",
   "metadata": {
    "ExecuteTime": {
     "end_time": "2021-08-26T18:12:45.732382Z",
     "start_time": "2021-08-26T18:12:14.857364Z"
    }
   },
   "outputs": [
    {
     "data": {
      "text/plain": [
       "[0.5069248231292061,\n",
       " 0.5006908738145861,\n",
       " 0.4931445654646017,\n",
       " 0.5039101753068067,\n",
       " 0.5014351366034588,\n",
       " 0.5028347252717772,\n",
       " 0.5095234564543892,\n",
       " 0.5062626193645395,\n",
       " 0.4913455716601861,\n",
       " 0.5066196352647712,\n",
       " 0.5045353555616665,\n",
       " 0.5002906272350842,\n",
       " 0.5051977300539805,\n",
       " 0.5075568568796229,\n",
       " 0.5013494679089949,\n",
       " 0.576700724799837,\n",
       " 0.4964642182289567,\n",
       " 0.5005232436545717,\n",
       " 0.4961361650546115,\n",
       " 0.4952698198030656,\n",
       " 0.5118118776443731,\n",
       " 0.5055316855269905,\n",
       " 0.5020859991744099,\n",
       " 0.49744758508791553,\n",
       " 0.5029154550593005,\n",
       " 0.5011222050207342,\n",
       " 0.5027630928288901,\n",
       " 0.5047659598338821,\n",
       " 0.5018325417871161,\n",
       " 0.51064807605185,\n",
       " 0.49892248903837044,\n",
       " 0.4966823959674129,\n",
       " 0.5070044919663497,\n",
       " 0.5571927252949473,\n",
       " 0.5022525805788765,\n",
       " 0.4950394838171531,\n",
       " 0.49889844082976076,\n",
       " 0.5043975173761113,\n",
       " 0.5032835194772808,\n",
       " 0.49955773002959075,\n",
       " 0.49718355478131926,\n",
       " 0.49678049119563616,\n",
       " 0.501371357632349,\n",
       " 0.510048175683627,\n",
       " 0.4954644005416944,\n",
       " 0.5036931560773859,\n",
       " 0.5066867556198359,\n",
       " 0.5408403946491516,\n",
       " 0.49868359228042747,\n",
       " 0.5067750705928334,\n",
       " 0.5064433711637346,\n",
       " 0.5031020115985047,\n",
       " 0.5062896065276496,\n",
       " 0.5056960474720418,\n",
       " 0.5448254584189767,\n",
       " 0.49878550449105175,\n",
       " 0.5024706607586771,\n",
       " 0.4969741329322047,\n",
       " 0.5034946242132047,\n",
       " 0.4999003560281188,\n",
       " 0.49602674082750475,\n",
       " 0.4982736995888513,\n",
       " 0.4997041411820085,\n",
       " 0.5041756933829012,\n",
       " 0.49729224731850885,\n",
       " 0.5088644965150219,\n",
       " 0.4980117667933506,\n",
       " 0.570349253889694,\n",
       " 0.5018221883747886,\n",
       " 0.5028234816367172,\n",
       " 0.5006016076446962,\n",
       " 0.4996541423710046,\n",
       " 0.5029011383265886,\n",
       " 0.503653644821861,\n",
       " 0.4990023042134974,\n",
       " 0.4972421997281772,\n",
       " 0.5078989463055452,\n",
       " 0.49736972108590105,\n",
       " 0.5008777230297572,\n",
       " 0.4943634145285569,\n",
       " 0.5025502564268289,\n",
       " 0.5047670939532536,\n",
       " 0.5023962600889369,\n",
       " 0.5007792619565754,\n",
       " 0.4990243036903392,\n",
       " 0.4970273877633398,\n",
       " 0.5050821474367378,\n",
       " 0.49755569227317153,\n",
       " 0.4980634972704917,\n",
       " 0.5169134148639147,\n",
       " 0.4998730152148821,\n",
       " 0.4997777491876717,\n",
       " 0.5040065998430524,\n",
       " 0.49376361171898964,\n",
       " 0.5126306142719776,\n",
       " 0.5010130368850985,\n",
       " 0.5118040851467558,\n",
       " 0.4910158965731912,\n",
       " 0.5010808523455844,\n",
       " 0.5034276989754511,\n",
       " 0.49324029489542626,\n",
       " 0.49524706424664294,\n",
       " 0.49635576958840616,\n",
       " 0.5008518212066908,\n",
       " 0.5036693395705834,\n",
       " 0.4945473247892276,\n",
       " 0.5922417210810229,\n",
       " 0.49760916661128185]"
      ]
     },
     "execution_count": 7,
     "metadata": {},
     "output_type": "execute_result"
    }
   ],
   "source": [
    "roc_values = []\n",
    "\n",
    "for f in X_train.columns:\n",
    "    clf = DecisionTreeClassifier()\n",
    "    clf.fit(X_train[f].fillna(0).to_frame(), y_train)\n",
    "    y_scored = clf.predict_proba(X_test[f].to_frame())\n",
    "    roc_values.append(roc_auc_score(y_test, y_scored[:, 1]))\n",
    "    \n",
    "roc_values"
   ]
  },
  {
   "cell_type": "code",
   "execution_count": 10,
   "id": "ce8474d5",
   "metadata": {
    "ExecuteTime": {
     "end_time": "2021-08-26T18:13:21.242784Z",
     "start_time": "2021-08-26T18:13:18.824028Z"
    }
   },
   "outputs": [
    {
     "data": {
      "text/plain": [
       "Text(0, 0.5, 'roc-auc')"
      ]
     },
     "execution_count": 10,
     "metadata": {},
     "output_type": "execute_result"
    },
    {
     "data": {
      "image/png": "[encoded data removed]",
      "text/plain": [
       "<Figure size 1440x360 with 1 Axes>"
      ]
     },
     "metadata": {
      "needs_background": "light"
     },
     "output_type": "display_data"
    }
   ],
   "source": [
    "# 1) capture the roc-auc values in a pandas series\n",
    "# 2) add the variable names in the index\n",
    "# 3) sort the features based on the roc-auc\n",
    "# 4) and make a var plot\n",
    "\n",
    "roc_values = pd.Series(roc_values)\n",
    "roc_values.index = X_train.columns\n",
    "roc_values.sort_values(ascending=False).plot.bar(figsize=(20, 5))\n",
    "plt.ylabel('roc-auc')"
   ]
  },
  {
   "cell_type": "code",
   "execution_count": 12,
   "id": "2a21deaf",
   "metadata": {
    "ExecuteTime": {
     "end_time": "2021-08-26T18:13:39.969701Z",
     "start_time": "2021-08-26T18:13:39.963836Z"
    }
   },
   "outputs": [
    {
     "data": {
      "text/plain": [
       "67"
      ]
     },
     "execution_count": 12,
     "metadata": {},
     "output_type": "execute_result"
    }
   ],
   "source": [
    "len(roc_values[roc_values > 0.5]) #67 of 108 features show a predictive performance higher than 0.5."
   ]
  },
  {
   "cell_type": "code",
   "execution_count": 14,
   "id": "2b5f9215",
   "metadata": {
    "ExecuteTime": {
     "end_time": "2021-08-26T18:14:02.582154Z",
     "start_time": "2021-08-26T18:14:02.574845Z"
    }
   },
   "outputs": [
    {
     "data": {
      "text/plain": [
       "Index(['var_1', 'var_2', 'var_4', 'var_5', 'var_6', 'var_7', 'var_8', 'var_10',\n",
       "       'var_11', 'var_12', 'var_13', 'var_14', 'var_15', 'var_16', 'var_18',\n",
       "       'var_21', 'var_22', 'var_23', 'var_25', 'var_26', 'var_27', 'var_28',\n",
       "       'var_29', 'var_30', 'var_33', 'var_34', 'var_35', 'var_38', 'var_39',\n",
       "       'var_43', 'var_44', 'var_46', 'var_47', 'var_48', 'var_50', 'var_51',\n",
       "       'var_52', 'var_53', 'var_54', 'var_55', 'var_57', 'var_59', 'var_65',\n",
       "       'var_67', 'var_69', 'var_70', 'var_71', 'var_72', 'var_74', 'var_75',\n",
       "       'var_78', 'var_80', 'var_82', 'var_83', 'var_84', 'var_85', 'var_88',\n",
       "       'var_91', 'var_94', 'var_96', 'var_97', 'var_98', 'var_100', 'var_101',\n",
       "       'var_105', 'var_106', 'var_108'],\n",
       "      dtype='object')"
      ]
     },
     "execution_count": 14,
     "metadata": {},
     "output_type": "execute_result"
    }
   ],
   "source": [
    "#Select features with roc-auc > 0.5\n",
    "selected_features = roc_values[roc_values > 0.5].index\n",
    "\n",
    "selected_features"
   ]
  },
  {
   "cell_type": "code",
   "execution_count": 15,
   "id": "7f6416fb",
   "metadata": {
    "ExecuteTime": {
     "end_time": "2021-08-26T18:14:12.422081Z",
     "start_time": "2021-08-26T18:14:12.391227Z"
    }
   },
   "outputs": [
    {
     "data": {
      "text/plain": [
       "((35000, 67), (15000, 67))"
      ]
     },
     "execution_count": 15,
     "metadata": {},
     "output_type": "execute_result"
    }
   ],
   "source": [
    "# select features in the dataframes\n",
    "\n",
    "X_train = X_train[selected_features]\n",
    "X_test = X_test[selected_features]\n",
    "\n",
    "X_train.shape, X_test.shape"
   ]
  },
  {
   "cell_type": "code",
   "execution_count": null,
   "id": "463c35fe",
   "metadata": {},
   "outputs": [],
   "source": []
  }
 ],
 "metadata": {
  "kernelspec": {
   "display_name": "train_in_data",
   "language": "python",
   "name": "train_in_data"
  },
  "language_info": {
   "codemirror_mode": {
    "name": "ipython",
    "version": 3
   },
   "file_extension": ".py",
   "mimetype": "text/x-python",
   "name": "python",
   "nbconvert_exporter": "python",
   "pygments_lexer": "ipython3",
   "version": "3.9.6"
  },
  "toc": {
   "base_numbering": 1,
   "nav_menu": {},
   "number_sections": true,
   "sideBar": true,
   "skip_h1_title": false,
   "title_cell": "Table of Contents",
   "title_sidebar": "Contents",
   "toc_cell": false,
   "toc_position": {},
   "toc_section_display": true,
   "toc_window_display": false
  },
  "varInspector": {
   "cols": {
    "lenName": 16,
    "lenType": 16,
    "lenVar": 40
   },
   "kernels_config": {
    "python": {
     "delete_cmd_postfix": "",
     "delete_cmd_prefix": "del ",
     "library": "var_list.py",
     "varRefreshCmd": "print(var_dic_list())"
    },
    "r": {
     "delete_cmd_postfix": ") ",
     "delete_cmd_prefix": "rm(",
     "library": "var_list.r",
     "varRefreshCmd": "cat(var_dic_list()) "
    }
   },
   "types_to_exclude": [
    "module",
    "function",
    "builtin_function_or_method",
    "instance",
    "_Feature"
   ],
   "window_display": false
  }
 },
 "nbformat": 4,
 "nbformat_minor": 5
}
